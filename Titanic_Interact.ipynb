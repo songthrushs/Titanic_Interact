{
 "cells": [
  {
   "cell_type": "code",
   "execution_count": 1,
   "metadata": {},
   "outputs": [],
   "source": [
    "import pandas as pd\n",
    "import numpy as np\n",
    "import matplotlib.pyplot as plt\n",
    "%matplotlib inline\n",
    "import seaborn as sns"
   ]
  },
  {
   "cell_type": "code",
   "execution_count": 3,
   "metadata": {},
   "outputs": [
    {
     "data": {
      "text/html": [
       "<div>\n",
       "<style scoped>\n",
       "    .dataframe tbody tr th:only-of-type {\n",
       "        vertical-align: middle;\n",
       "    }\n",
       "\n",
       "    .dataframe tbody tr th {\n",
       "        vertical-align: top;\n",
       "    }\n",
       "\n",
       "    .dataframe thead th {\n",
       "        text-align: right;\n",
       "    }\n",
       "</style>\n",
       "<table border=\"1\" class=\"dataframe\">\n",
       "  <thead>\n",
       "    <tr style=\"text-align: right;\">\n",
       "      <th></th>\n",
       "      <th>PassengerId</th>\n",
       "      <th>Survived</th>\n",
       "      <th>Pclass</th>\n",
       "      <th>Name</th>\n",
       "      <th>Sex</th>\n",
       "      <th>Age</th>\n",
       "      <th>SibSp</th>\n",
       "      <th>Parch</th>\n",
       "      <th>Ticket</th>\n",
       "      <th>Fare</th>\n",
       "      <th>Cabin</th>\n",
       "      <th>Embarked</th>\n",
       "    </tr>\n",
       "  </thead>\n",
       "  <tbody>\n",
       "    <tr>\n",
       "      <td>0</td>\n",
       "      <td>1</td>\n",
       "      <td>0</td>\n",
       "      <td>3</td>\n",
       "      <td>Braund, Mr. Owen Harris</td>\n",
       "      <td>male</td>\n",
       "      <td>22.0</td>\n",
       "      <td>1</td>\n",
       "      <td>0</td>\n",
       "      <td>A/5 21171</td>\n",
       "      <td>7.2500</td>\n",
       "      <td>NaN</td>\n",
       "      <td>S</td>\n",
       "    </tr>\n",
       "    <tr>\n",
       "      <td>1</td>\n",
       "      <td>2</td>\n",
       "      <td>1</td>\n",
       "      <td>1</td>\n",
       "      <td>Cumings, Mrs. John Bradley (Florence Briggs Th...</td>\n",
       "      <td>female</td>\n",
       "      <td>38.0</td>\n",
       "      <td>1</td>\n",
       "      <td>0</td>\n",
       "      <td>PC 17599</td>\n",
       "      <td>71.2833</td>\n",
       "      <td>C85</td>\n",
       "      <td>C</td>\n",
       "    </tr>\n",
       "    <tr>\n",
       "      <td>2</td>\n",
       "      <td>3</td>\n",
       "      <td>1</td>\n",
       "      <td>3</td>\n",
       "      <td>Heikkinen, Miss. Laina</td>\n",
       "      <td>female</td>\n",
       "      <td>26.0</td>\n",
       "      <td>0</td>\n",
       "      <td>0</td>\n",
       "      <td>STON/O2. 3101282</td>\n",
       "      <td>7.9250</td>\n",
       "      <td>NaN</td>\n",
       "      <td>S</td>\n",
       "    </tr>\n",
       "    <tr>\n",
       "      <td>3</td>\n",
       "      <td>4</td>\n",
       "      <td>1</td>\n",
       "      <td>1</td>\n",
       "      <td>Futrelle, Mrs. Jacques Heath (Lily May Peel)</td>\n",
       "      <td>female</td>\n",
       "      <td>35.0</td>\n",
       "      <td>1</td>\n",
       "      <td>0</td>\n",
       "      <td>113803</td>\n",
       "      <td>53.1000</td>\n",
       "      <td>C123</td>\n",
       "      <td>S</td>\n",
       "    </tr>\n",
       "    <tr>\n",
       "      <td>4</td>\n",
       "      <td>5</td>\n",
       "      <td>0</td>\n",
       "      <td>3</td>\n",
       "      <td>Allen, Mr. William Henry</td>\n",
       "      <td>male</td>\n",
       "      <td>35.0</td>\n",
       "      <td>0</td>\n",
       "      <td>0</td>\n",
       "      <td>373450</td>\n",
       "      <td>8.0500</td>\n",
       "      <td>NaN</td>\n",
       "      <td>S</td>\n",
       "    </tr>\n",
       "  </tbody>\n",
       "</table>\n",
       "</div>"
      ],
      "text/plain": [
       "   PassengerId  Survived  Pclass  \\\n",
       "0            1         0       3   \n",
       "1            2         1       1   \n",
       "2            3         1       3   \n",
       "3            4         1       1   \n",
       "4            5         0       3   \n",
       "\n",
       "                                                Name     Sex   Age  SibSp  \\\n",
       "0                            Braund, Mr. Owen Harris    male  22.0      1   \n",
       "1  Cumings, Mrs. John Bradley (Florence Briggs Th...  female  38.0      1   \n",
       "2                             Heikkinen, Miss. Laina  female  26.0      0   \n",
       "3       Futrelle, Mrs. Jacques Heath (Lily May Peel)  female  35.0      1   \n",
       "4                           Allen, Mr. William Henry    male  35.0      0   \n",
       "\n",
       "   Parch            Ticket     Fare Cabin Embarked  \n",
       "0      0         A/5 21171   7.2500   NaN        S  \n",
       "1      0          PC 17599  71.2833   C85        C  \n",
       "2      0  STON/O2. 3101282   7.9250   NaN        S  \n",
       "3      0            113803  53.1000  C123        S  \n",
       "4      0            373450   8.0500   NaN        S  "
      ]
     },
     "execution_count": 3,
     "metadata": {},
     "output_type": "execute_result"
    }
   ],
   "source": [
    "df_train = pd.read_csv('train.csv')\n",
    "df_train.head(5)"
   ]
  },
  {
   "cell_type": "markdown",
   "metadata": {},
   "source": [
    "### Applying ticket number to Titanic Data"
   ]
  },
  {
   "cell_type": "code",
   "execution_count": 4,
   "metadata": {},
   "outputs": [],
   "source": [
    "def ticket(X):\n",
    "    uniq_ticket_numbers = ['A', 'P', 'S', '1', '3', '2', 'C', '7', 'W', '4', 'F', 'L', '9',\n",
    "       '6', '5', '8']\n",
    "    uniq_ticket_length = [ 9,  8, 16,  6,  5,  7,  4, 10, 13, 15, 12, 11, 17, 18,  3]\n",
    "    # Grouping the ticket data according to first chr and the length of the ticket number\n",
    "    X['Ticket_search'] = X['Ticket'].apply(lambda x:x[0])\n",
    "    X['Ticket_length'] = X['Ticket'].apply(len)\n",
    "    # Manual onehot encoding\n",
    "    for i in uniq_ticket_numbers:\n",
    "        X['ticket_number'+i] = X['Ticket_search']==i\n",
    "    for i in uniq_ticket_length:    \n",
    "        X['ticket_length'+str(i)] = X['Ticket_length']==i\n",
    "    X = X.drop(['Ticket_search'], 1)\n",
    "    X = X.drop(['Ticket_length'], 1)\n",
    "    X = X.drop(['Ticket'], 1)\n",
    "    return X"
   ]
  },
  {
   "cell_type": "markdown",
   "metadata": {},
   "source": [
    "### Joining SibSp and Parch"
   ]
  },
  {
   "cell_type": "code",
   "execution_count": 5,
   "metadata": {},
   "outputs": [],
   "source": [
    "def family (X):\n",
    "    X['Family'] = X['SibSp'] + X['Parch']\n",
    "    X=X.drop('SibSp', axis=1)\n",
    "    X=X.drop('Parch', axis=1)\n",
    "    return X"
   ]
  },
  {
   "cell_type": "markdown",
   "metadata": {},
   "source": [
    "### Applying starboard/ port, deck level and location criteria"
   ]
  },
  {
   "cell_type": "code",
   "execution_count": 6,
   "metadata": {},
   "outputs": [],
   "source": [
    "def cabin_info (X):\n",
    "    # Splitting the cabin information\n",
    "    X['Cabin_number'] = X.Cabin.str.extract(r'([\\d]+)',expand=False)\n",
    "    X['Cabin_letter'] = X.Cabin.str.replace('\\d+', '')\n",
    "    X['Cabin_letter'] = X['Cabin_letter'].str[0]\n",
    "    X['Cabin_number'] = X['Cabin_number'].dropna() \n",
    "    X['Cabin_number'] = X['Cabin_number'].astype('float')\n",
    "    # Splitting the cabin number to port and starboard\n",
    "    X['Starboard'] = X['Cabin_number']%2\n",
    "    # Splitting the deck according to the location (aft, bow, center)\n",
    "    X['Cabin_loc'] = pd.cut(X['Cabin_number'], [0,50,100,150], labels=['aft', 'center', 'bow'])\n",
    "    X = X.drop(['Cabin','Cabin_number'], 1)\n",
    "    # Manual onehotencoding to the cabin features\n",
    "    uniq_cabin_letters = ['C', 'E', 'G', 'D', 'A', 'B', 'F', 'T']\n",
    "    uniq_cabin_locs = ['aft', 'center', 'bow']\n",
    "    uniq_starboard = [1.,  0.]\n",
    "    for i in uniq_cabin_letters:\n",
    "        X['Cabin_letter'+i] = X['Cabin_letter']==i\n",
    "    for i in uniq_cabin_locs:\n",
    "        X['Cabin_loc'+i] = X['Cabin_loc']==i\n",
    "    for i in uniq_starboard:\n",
    "        X['Starboard'+str(i)] = X['Starboard']==i\n",
    "    X = X.drop(['Cabin_letter'], 1)\n",
    "    X = X.drop(['Cabin_loc'], 1)\n",
    "    X = X.drop(['Starboard'], 1)\n",
    "    return X"
   ]
  },
  {
   "cell_type": "markdown",
   "metadata": {},
   "source": [
    "### Processing the functions"
   ]
  },
  {
   "cell_type": "code",
   "execution_count": 7,
   "metadata": {},
   "outputs": [],
   "source": [
    "def process (X):\n",
    "    \n",
    "    include = ['Pclass','Sex', 'Age','Ticket','Cabin','Fare', 'SibSp','Parch','Embarked']       \n",
    "    X = X[include]\n",
    "    X = ticket(X)\n",
    "    X = family(X)\n",
    "    X = cabin_info(X)\n",
    "    X['Sex'] = X['Sex']=='male'\n",
    "    X['Embarked_s'] = X['Embarked']=='S'\n",
    "    X['Embarked_c'] = X['Embarked']=='C'\n",
    "    X=X.drop('Embarked', axis=1)\n",
    "    X['Age'] = X['Age'].fillna(29)\n",
    "    X['Fare'] = X['Fare'].fillna(14.454200)   \n",
    "    return X"
   ]
  },
  {
   "cell_type": "markdown",
   "metadata": {},
   "source": [
    "### Splitting the data"
   ]
  },
  {
   "cell_type": "code",
   "execution_count": 8,
   "metadata": {},
   "outputs": [
    {
     "name": "stderr",
     "output_type": "stream",
     "text": [
      "C:\\Users\\AA\\AppData\\Local\\Continuum\\anaconda3\\lib\\site-packages\\ipykernel_launcher.py:6: SettingWithCopyWarning: \n",
      "A value is trying to be set on a copy of a slice from a DataFrame.\n",
      "Try using .loc[row_indexer,col_indexer] = value instead\n",
      "\n",
      "See the caveats in the documentation: http://pandas.pydata.org/pandas-docs/stable/user_guide/indexing.html#returning-a-view-versus-a-copy\n",
      "  \n",
      "C:\\Users\\AA\\AppData\\Local\\Continuum\\anaconda3\\lib\\site-packages\\ipykernel_launcher.py:7: SettingWithCopyWarning: \n",
      "A value is trying to be set on a copy of a slice from a DataFrame.\n",
      "Try using .loc[row_indexer,col_indexer] = value instead\n",
      "\n",
      "See the caveats in the documentation: http://pandas.pydata.org/pandas-docs/stable/user_guide/indexing.html#returning-a-view-versus-a-copy\n",
      "  import sys\n"
     ]
    }
   ],
   "source": [
    "df_train = pd.read_csv('train.csv')\n",
    "X = process(df_train)\n",
    "y = df_train['Survived']"
   ]
  },
  {
   "cell_type": "code",
   "execution_count": 9,
   "metadata": {},
   "outputs": [
    {
     "data": {
      "text/html": [
       "<div>\n",
       "<style scoped>\n",
       "    .dataframe tbody tr th:only-of-type {\n",
       "        vertical-align: middle;\n",
       "    }\n",
       "\n",
       "    .dataframe tbody tr th {\n",
       "        vertical-align: top;\n",
       "    }\n",
       "\n",
       "    .dataframe thead th {\n",
       "        text-align: right;\n",
       "    }\n",
       "</style>\n",
       "<table border=\"1\" class=\"dataframe\">\n",
       "  <thead>\n",
       "    <tr style=\"text-align: right;\">\n",
       "      <th></th>\n",
       "      <th>Pclass</th>\n",
       "      <th>Sex</th>\n",
       "      <th>Age</th>\n",
       "      <th>Fare</th>\n",
       "      <th>ticket_numberA</th>\n",
       "      <th>ticket_numberP</th>\n",
       "      <th>ticket_numberS</th>\n",
       "      <th>ticket_number1</th>\n",
       "      <th>ticket_number3</th>\n",
       "      <th>ticket_number2</th>\n",
       "      <th>...</th>\n",
       "      <th>Cabin_letterB</th>\n",
       "      <th>Cabin_letterF</th>\n",
       "      <th>Cabin_letterT</th>\n",
       "      <th>Cabin_locaft</th>\n",
       "      <th>Cabin_loccenter</th>\n",
       "      <th>Cabin_locbow</th>\n",
       "      <th>Starboard1.0</th>\n",
       "      <th>Starboard0.0</th>\n",
       "      <th>Embarked_s</th>\n",
       "      <th>Embarked_c</th>\n",
       "    </tr>\n",
       "  </thead>\n",
       "  <tbody>\n",
       "    <tr>\n",
       "      <td>0</td>\n",
       "      <td>3</td>\n",
       "      <td>True</td>\n",
       "      <td>22.0</td>\n",
       "      <td>7.2500</td>\n",
       "      <td>True</td>\n",
       "      <td>False</td>\n",
       "      <td>False</td>\n",
       "      <td>False</td>\n",
       "      <td>False</td>\n",
       "      <td>False</td>\n",
       "      <td>...</td>\n",
       "      <td>False</td>\n",
       "      <td>False</td>\n",
       "      <td>False</td>\n",
       "      <td>False</td>\n",
       "      <td>False</td>\n",
       "      <td>False</td>\n",
       "      <td>False</td>\n",
       "      <td>False</td>\n",
       "      <td>True</td>\n",
       "      <td>False</td>\n",
       "    </tr>\n",
       "    <tr>\n",
       "      <td>1</td>\n",
       "      <td>1</td>\n",
       "      <td>False</td>\n",
       "      <td>38.0</td>\n",
       "      <td>71.2833</td>\n",
       "      <td>False</td>\n",
       "      <td>True</td>\n",
       "      <td>False</td>\n",
       "      <td>False</td>\n",
       "      <td>False</td>\n",
       "      <td>False</td>\n",
       "      <td>...</td>\n",
       "      <td>False</td>\n",
       "      <td>False</td>\n",
       "      <td>False</td>\n",
       "      <td>False</td>\n",
       "      <td>True</td>\n",
       "      <td>False</td>\n",
       "      <td>True</td>\n",
       "      <td>False</td>\n",
       "      <td>False</td>\n",
       "      <td>True</td>\n",
       "    </tr>\n",
       "    <tr>\n",
       "      <td>2</td>\n",
       "      <td>3</td>\n",
       "      <td>False</td>\n",
       "      <td>26.0</td>\n",
       "      <td>7.9250</td>\n",
       "      <td>False</td>\n",
       "      <td>False</td>\n",
       "      <td>True</td>\n",
       "      <td>False</td>\n",
       "      <td>False</td>\n",
       "      <td>False</td>\n",
       "      <td>...</td>\n",
       "      <td>False</td>\n",
       "      <td>False</td>\n",
       "      <td>False</td>\n",
       "      <td>False</td>\n",
       "      <td>False</td>\n",
       "      <td>False</td>\n",
       "      <td>False</td>\n",
       "      <td>False</td>\n",
       "      <td>True</td>\n",
       "      <td>False</td>\n",
       "    </tr>\n",
       "    <tr>\n",
       "      <td>3</td>\n",
       "      <td>1</td>\n",
       "      <td>False</td>\n",
       "      <td>35.0</td>\n",
       "      <td>53.1000</td>\n",
       "      <td>False</td>\n",
       "      <td>False</td>\n",
       "      <td>False</td>\n",
       "      <td>True</td>\n",
       "      <td>False</td>\n",
       "      <td>False</td>\n",
       "      <td>...</td>\n",
       "      <td>False</td>\n",
       "      <td>False</td>\n",
       "      <td>False</td>\n",
       "      <td>False</td>\n",
       "      <td>False</td>\n",
       "      <td>True</td>\n",
       "      <td>True</td>\n",
       "      <td>False</td>\n",
       "      <td>True</td>\n",
       "      <td>False</td>\n",
       "    </tr>\n",
       "    <tr>\n",
       "      <td>4</td>\n",
       "      <td>3</td>\n",
       "      <td>True</td>\n",
       "      <td>35.0</td>\n",
       "      <td>8.0500</td>\n",
       "      <td>False</td>\n",
       "      <td>False</td>\n",
       "      <td>False</td>\n",
       "      <td>False</td>\n",
       "      <td>True</td>\n",
       "      <td>False</td>\n",
       "      <td>...</td>\n",
       "      <td>False</td>\n",
       "      <td>False</td>\n",
       "      <td>False</td>\n",
       "      <td>False</td>\n",
       "      <td>False</td>\n",
       "      <td>False</td>\n",
       "      <td>False</td>\n",
       "      <td>False</td>\n",
       "      <td>True</td>\n",
       "      <td>False</td>\n",
       "    </tr>\n",
       "  </tbody>\n",
       "</table>\n",
       "<p>5 rows × 51 columns</p>\n",
       "</div>"
      ],
      "text/plain": [
       "   Pclass    Sex   Age     Fare  ticket_numberA  ticket_numberP  \\\n",
       "0       3   True  22.0   7.2500            True           False   \n",
       "1       1  False  38.0  71.2833           False            True   \n",
       "2       3  False  26.0   7.9250           False           False   \n",
       "3       1  False  35.0  53.1000           False           False   \n",
       "4       3   True  35.0   8.0500           False           False   \n",
       "\n",
       "   ticket_numberS  ticket_number1  ticket_number3  ticket_number2  ...  \\\n",
       "0           False           False           False           False  ...   \n",
       "1           False           False           False           False  ...   \n",
       "2            True           False           False           False  ...   \n",
       "3           False            True           False           False  ...   \n",
       "4           False           False            True           False  ...   \n",
       "\n",
       "   Cabin_letterB  Cabin_letterF  Cabin_letterT  Cabin_locaft  Cabin_loccenter  \\\n",
       "0          False          False          False         False            False   \n",
       "1          False          False          False         False             True   \n",
       "2          False          False          False         False            False   \n",
       "3          False          False          False         False            False   \n",
       "4          False          False          False         False            False   \n",
       "\n",
       "   Cabin_locbow  Starboard1.0  Starboard0.0  Embarked_s  Embarked_c  \n",
       "0         False         False         False        True       False  \n",
       "1         False          True         False       False        True  \n",
       "2         False         False         False        True       False  \n",
       "3          True          True         False        True       False  \n",
       "4         False         False         False        True       False  \n",
       "\n",
       "[5 rows x 51 columns]"
      ]
     },
     "execution_count": 9,
     "metadata": {},
     "output_type": "execute_result"
    }
   ],
   "source": [
    "X.head(5)"
   ]
  },
  {
   "cell_type": "code",
   "execution_count": 10,
   "metadata": {},
   "outputs": [
    {
     "data": {
      "text/plain": [
       "Index(['Pclass', 'Sex', 'Age', 'Fare', 'ticket_numberA', 'ticket_numberP',\n",
       "       'ticket_numberS', 'ticket_number1', 'ticket_number3', 'ticket_number2',\n",
       "       'ticket_numberC', 'ticket_number7', 'ticket_numberW', 'ticket_number4',\n",
       "       'ticket_numberF', 'ticket_numberL', 'ticket_number9', 'ticket_number6',\n",
       "       'ticket_number5', 'ticket_number8', 'ticket_length9', 'ticket_length8',\n",
       "       'ticket_length16', 'ticket_length6', 'ticket_length5', 'ticket_length7',\n",
       "       'ticket_length4', 'ticket_length10', 'ticket_length13',\n",
       "       'ticket_length15', 'ticket_length12', 'ticket_length11',\n",
       "       'ticket_length17', 'ticket_length18', 'ticket_length3', 'Family',\n",
       "       'Cabin_letterC', 'Cabin_letterE', 'Cabin_letterG', 'Cabin_letterD',\n",
       "       'Cabin_letterA', 'Cabin_letterB', 'Cabin_letterF', 'Cabin_letterT',\n",
       "       'Cabin_locaft', 'Cabin_loccenter', 'Cabin_locbow', 'Starboard1.0',\n",
       "       'Starboard0.0', 'Embarked_s', 'Embarked_c'],\n",
       "      dtype='object')"
      ]
     },
     "execution_count": 10,
     "metadata": {},
     "output_type": "execute_result"
    }
   ],
   "source": [
    "X.columns"
   ]
  },
  {
   "cell_type": "code",
   "execution_count": 11,
   "metadata": {},
   "outputs": [],
   "source": [
    "from sklearn.ensemble import RandomForestClassifier \n",
    "from sklearn.model_selection import cross_validate"
   ]
  },
  {
   "cell_type": "code",
   "execution_count": 12,
   "metadata": {},
   "outputs": [
    {
     "data": {
      "text/plain": [
       "0.3838383838383838"
      ]
     },
     "execution_count": 12,
     "metadata": {},
     "output_type": "execute_result"
    }
   ],
   "source": [
    "df_train['Survived'].mean()"
   ]
  },
  {
   "cell_type": "code",
   "execution_count": 13,
   "metadata": {},
   "outputs": [],
   "source": [
    "clf = RandomForestClassifier(n_estimators=100, min_samples_leaf=5, class_weight='balanced', criterion='entropy')"
   ]
  },
  {
   "cell_type": "code",
   "execution_count": 14,
   "metadata": {},
   "outputs": [],
   "source": [
    "test_sc = cross_validate(estimator=clf, X=X, y=y, cv=10, return_train_score=True)"
   ]
  },
  {
   "cell_type": "code",
   "execution_count": 15,
   "metadata": {},
   "outputs": [
    {
     "data": {
      "text/plain": [
       "{'fit_time': array([0.09078503, 0.0797565 , 0.08078384, 0.09571242, 0.09674072,\n",
       "        0.08773232, 0.07878923, 0.07878971, 0.07981682, 0.07280445]),\n",
       " 'score_time': array([0.00499201, 0.00502157, 0.00598979, 0.00800872, 0.00799274,\n",
       "        0.00598383, 0.00598407, 0.00598335, 0.00498652, 0.00498629]),\n",
       " 'test_score': array([0.78888889, 0.76666667, 0.76404494, 0.78651685, 0.82022472,\n",
       "        0.7752809 , 0.83146067, 0.82022472, 0.84269663, 0.85227273]),\n",
       " 'train_score': array([0.86267166, 0.85393258, 0.87281796, 0.86159601, 0.84663342,\n",
       "        0.8553616 , 0.85785536, 0.86783042, 0.86284289, 0.85429639])}"
      ]
     },
     "execution_count": 15,
     "metadata": {},
     "output_type": "execute_result"
    }
   ],
   "source": [
    "test_sc"
   ]
  },
  {
   "cell_type": "code",
   "execution_count": 16,
   "metadata": {},
   "outputs": [
    {
     "data": {
      "text/plain": [
       "0.804827772103053"
      ]
     },
     "execution_count": 16,
     "metadata": {},
     "output_type": "execute_result"
    }
   ],
   "source": [
    "test_sc['test_score'].mean()"
   ]
  },
  {
   "cell_type": "code",
   "execution_count": 17,
   "metadata": {},
   "outputs": [
    {
     "data": {
      "text/plain": [
       "0.8595838289097445"
      ]
     },
     "execution_count": 17,
     "metadata": {},
     "output_type": "execute_result"
    }
   ],
   "source": [
    "test_sc['train_score'].mean()"
   ]
  },
  {
   "cell_type": "code",
   "execution_count": 18,
   "metadata": {},
   "outputs": [],
   "source": [
    "from sklearn.model_selection import GridSearchCV"
   ]
  },
  {
   "cell_type": "code",
   "execution_count": 19,
   "metadata": {},
   "outputs": [],
   "source": [
    "grid_s = GridSearchCV(estimator=clf, param_grid={'min_samples_leaf':(range(1,10)), 'class_weight':['balanced'],'max_features':(range(35,44))})"
   ]
  },
  {
   "cell_type": "code",
   "execution_count": 20,
   "metadata": {},
   "outputs": [
    {
     "name": "stderr",
     "output_type": "stream",
     "text": [
      "C:\\Users\\AA\\AppData\\Local\\Continuum\\anaconda3\\lib\\site-packages\\sklearn\\model_selection\\_split.py:1978: FutureWarning: The default value of cv will change from 3 to 5 in version 0.22. Specify it explicitly to silence this warning.\n",
      "  warnings.warn(CV_WARNING, FutureWarning)\n"
     ]
    },
    {
     "data": {
      "text/plain": [
       "GridSearchCV(cv='warn', error_score='raise-deprecating',\n",
       "             estimator=RandomForestClassifier(bootstrap=True,\n",
       "                                              class_weight='balanced',\n",
       "                                              criterion='entropy',\n",
       "                                              max_depth=None,\n",
       "                                              max_features='auto',\n",
       "                                              max_leaf_nodes=None,\n",
       "                                              min_impurity_decrease=0.0,\n",
       "                                              min_impurity_split=None,\n",
       "                                              min_samples_leaf=5,\n",
       "                                              min_samples_split=2,\n",
       "                                              min_weight_fraction_leaf=0.0,\n",
       "                                              n_estimators=100, n_jobs=None,\n",
       "                                              oob_score=False,\n",
       "                                              random_state=None, verbose=0,\n",
       "                                              warm_start=False),\n",
       "             iid='warn', n_jobs=None,\n",
       "             param_grid={'class_weight': ['balanced'],\n",
       "                         'max_features': range(35, 44),\n",
       "                         'min_samples_leaf': range(1, 10)},\n",
       "             pre_dispatch='2*n_jobs', refit=True, return_train_score=False,\n",
       "             scoring=None, verbose=0)"
      ]
     },
     "execution_count": 20,
     "metadata": {},
     "output_type": "execute_result"
    }
   ],
   "source": [
    "grid_s.fit(X, y)"
   ]
  },
  {
   "cell_type": "code",
   "execution_count": 21,
   "metadata": {},
   "outputs": [
    {
     "data": {
      "text/plain": [
       "{'class_weight': 'balanced', 'max_features': 43, 'min_samples_leaf': 4}"
      ]
     },
     "execution_count": 21,
     "metadata": {},
     "output_type": "execute_result"
    }
   ],
   "source": [
    "grid_s.best_params_"
   ]
  },
  {
   "cell_type": "code",
   "execution_count": 22,
   "metadata": {},
   "outputs": [
    {
     "data": {
      "text/plain": [
       "{'mean_fit_time': array([0.15326413, 0.1881721 , 0.12666289, 0.13762172, 0.12401326,\n",
       "        0.11900663, 0.14527949, 0.10838707, 0.1030577 , 0.14460452,\n",
       "        0.14524031, 0.14760462, 0.15226992, 0.12998533, 0.12932404,\n",
       "        0.13596916, 0.10737896, 0.12631965, 0.16956687, 0.13530453,\n",
       "        0.1319708 , 0.14628577, 0.13996108, 0.12566304, 0.14229488,\n",
       "        0.12932261, 0.12831283, 0.17916473, 0.15126069, 0.15259202,\n",
       "        0.1412882 , 0.14127771, 0.15492288, 0.12733603, 0.11534794,\n",
       "        0.124698  , 0.15325912, 0.18119438, 0.13630478, 0.13231627,\n",
       "        0.14427924, 0.1419549 , 0.14429156, 0.1376311 , 0.12832403,\n",
       "        0.18084017, 0.17253017, 0.15824564, 0.15692353, 0.14328218,\n",
       "        0.14893468, 0.14893508, 0.13065076, 0.1299785 , 0.16156499,\n",
       "        0.16687544, 0.1765275 , 0.15126483, 0.15526263, 0.1416177 ,\n",
       "        0.14661272, 0.13962468, 0.119337  , 0.18418892, 0.16090457,\n",
       "        0.1579229 , 0.15626764, 0.13663507, 0.13696496, 0.13530374,\n",
       "        0.14062937, 0.14293345, 0.18818076, 0.17850669, 0.17751614,\n",
       "        0.15923866, 0.15857633, 0.13995703, 0.13927825, 0.15228542,\n",
       "        0.12333727]),\n",
       " 'std_fit_time': array([0.00831095, 0.03672255, 0.00293539, 0.0195694 , 0.00419232,\n",
       "        0.00552725, 0.01727736, 0.00368387, 0.00261775, 0.01057758,\n",
       "        0.01512956, 0.01264116, 0.0054293 , 0.00517108, 0.00402025,\n",
       "        0.01185849, 0.00204951, 0.0146096 , 0.01272875, 0.00401406,\n",
       "        0.00739116, 0.01192335, 0.01387419, 0.01003195, 0.00543422,\n",
       "        0.00204933, 0.00598869, 0.00897664, 0.00329107, 0.01102404,\n",
       "        0.00248823, 0.01016673, 0.01831651, 0.00543245, 0.00327663,\n",
       "        0.00862053, 0.00477225, 0.01405113, 0.00124501, 0.00329262,\n",
       "        0.01512919, 0.0030799 , 0.00522964, 0.00242975, 0.00124152,\n",
       "        0.01190713, 0.01017267, 0.0032634 , 0.00417233, 0.0020487 ,\n",
       "        0.01182432, 0.00552396, 0.00776822, 0.01188014, 0.00355424,\n",
       "        0.02050582, 0.01907973, 0.00261675, 0.00621586, 0.00215203,\n",
       "        0.01413563, 0.01908096, 0.00247409, 0.0067756 , 0.01005223,\n",
       "        0.01306175, 0.00896639, 0.00140433, 0.01037569, 0.00878367,\n",
       "        0.01061823, 0.007685  , 0.0033665 , 0.00985195, 0.00494228,\n",
       "        0.00329004, 0.01096214, 0.00187919, 0.00876865, 0.02342072,\n",
       "        0.00205075]),\n",
       " 'mean_score_time': array([0.00930047, 0.01130414, 0.00764529, 0.00897535, 0.00864132,\n",
       "        0.00831707, 0.00896502, 0.00731325, 0.00764624, 0.00898663,\n",
       "        0.00833678, 0.00964133, 0.00897614, 0.00897694, 0.00897233,\n",
       "        0.00930834, 0.00764648, 0.00831072, 0.0086329 , 0.00764608,\n",
       "        0.00831119, 0.0086561 , 0.00930778, 0.00963036, 0.00964093,\n",
       "        0.00864228, 0.00898568, 0.00966311, 0.00897717, 0.01063593,\n",
       "        0.00831238, 0.01063895, 0.0099659 , 0.00897408, 0.0086542 ,\n",
       "        0.0089438 , 0.008641  , 0.00962734, 0.00864188, 0.00797486,\n",
       "        0.0099651 , 0.00962893, 0.00931104, 0.00964117, 0.00897543,\n",
       "        0.00998084, 0.01096924, 0.00997313, 0.01030445, 0.0089767 ,\n",
       "        0.00963044, 0.00964141, 0.00864251, 0.00931676, 0.00864601,\n",
       "        0.01097083, 0.01031653, 0.00897328, 0.00929705, 0.00931001,\n",
       "        0.01062353, 0.00832001, 0.0083104 , 0.00962543, 0.00930882,\n",
       "        0.00896366, 0.00929125, 0.00831183, 0.00864625, 0.00831389,\n",
       "        0.00963227, 0.0113101 , 0.00997297, 0.01031494, 0.00997368,\n",
       "        0.00931215, 0.00963895, 0.00864577, 0.00864323, 0.00962551,\n",
       "        0.00797931]),\n",
       " 'std_score_time': array([1.23140484e-03, 4.17771973e-03, 4.71145933e-04, 1.41068320e-03,\n",
       "        4.69578908e-04, 4.86824208e-04, 1.39270196e-03, 4.69684520e-04,\n",
       "        4.70148595e-04, 8.24912121e-04, 1.29498044e-03, 9.39931099e-04,\n",
       "        8.01680179e-04, 8.14200134e-04, 2.40265790e-06, 1.24560081e-03,\n",
       "        4.70302724e-04, 1.24370912e-03, 9.26219470e-04, 4.73062997e-04,\n",
       "        4.70077860e-04, 9.56176898e-04, 1.88098576e-03, 9.24421205e-04,\n",
       "        4.69516387e-04, 4.68898385e-04, 8.26304000e-04, 9.48236240e-04,\n",
       "        5.15042996e-07, 1.69657328e-03, 4.69076031e-04, 2.35128848e-03,\n",
       "        1.41548568e-03, 8.17122653e-04, 9.55160381e-04, 7.76441062e-04,\n",
       "        4.69516145e-04, 1.24414707e-03, 4.69629504e-04, 2.36022352e-06,\n",
       "        8.04982153e-04, 9.25776965e-04, 4.67276586e-04, 4.70190333e-04,\n",
       "        1.96925985e-06, 1.42343958e-03, 1.62946944e-03, 8.18870846e-04,\n",
       "        1.24375416e-03, 1.94667955e-07, 4.62307622e-04, 4.70190333e-04,\n",
       "        4.70079070e-04, 9.45375822e-04, 4.64462768e-04, 2.15457201e-03,\n",
       "        4.85083535e-04, 1.65563159e-06, 4.55918847e-04, 4.70370471e-04,\n",
       "        1.23528167e-03, 4.84576845e-04, 9.41280603e-04, 1.67734749e-03,\n",
       "        4.65976574e-04, 8.02733377e-04, 4.60865450e-04, 4.64740717e-04,\n",
       "        9.43247318e-04, 4.66822157e-04, 4.65519478e-04, 1.24441033e-03,\n",
       "        3.01787655e-06, 4.87217919e-04, 8.13229670e-04, 4.72215548e-04,\n",
       "        1.69705893e-03, 4.70865809e-04, 9.40661468e-04, 1.67956084e-03,\n",
       "        1.25153985e-06]),\n",
       " 'param_class_weight': masked_array(data=['balanced', 'balanced', 'balanced', 'balanced',\n",
       "                    'balanced', 'balanced', 'balanced', 'balanced',\n",
       "                    'balanced', 'balanced', 'balanced', 'balanced',\n",
       "                    'balanced', 'balanced', 'balanced', 'balanced',\n",
       "                    'balanced', 'balanced', 'balanced', 'balanced',\n",
       "                    'balanced', 'balanced', 'balanced', 'balanced',\n",
       "                    'balanced', 'balanced', 'balanced', 'balanced',\n",
       "                    'balanced', 'balanced', 'balanced', 'balanced',\n",
       "                    'balanced', 'balanced', 'balanced', 'balanced',\n",
       "                    'balanced', 'balanced', 'balanced', 'balanced',\n",
       "                    'balanced', 'balanced', 'balanced', 'balanced',\n",
       "                    'balanced', 'balanced', 'balanced', 'balanced',\n",
       "                    'balanced', 'balanced', 'balanced', 'balanced',\n",
       "                    'balanced', 'balanced', 'balanced', 'balanced',\n",
       "                    'balanced', 'balanced', 'balanced', 'balanced',\n",
       "                    'balanced', 'balanced', 'balanced', 'balanced',\n",
       "                    'balanced', 'balanced', 'balanced', 'balanced',\n",
       "                    'balanced', 'balanced', 'balanced', 'balanced',\n",
       "                    'balanced', 'balanced', 'balanced', 'balanced',\n",
       "                    'balanced', 'balanced', 'balanced', 'balanced',\n",
       "                    'balanced'],\n",
       "              mask=[False, False, False, False, False, False, False, False,\n",
       "                    False, False, False, False, False, False, False, False,\n",
       "                    False, False, False, False, False, False, False, False,\n",
       "                    False, False, False, False, False, False, False, False,\n",
       "                    False, False, False, False, False, False, False, False,\n",
       "                    False, False, False, False, False, False, False, False,\n",
       "                    False, False, False, False, False, False, False, False,\n",
       "                    False, False, False, False, False, False, False, False,\n",
       "                    False, False, False, False, False, False, False, False,\n",
       "                    False, False, False, False, False, False, False, False,\n",
       "                    False],\n",
       "        fill_value='?',\n",
       "             dtype=object),\n",
       " 'param_max_features': masked_array(data=[35, 35, 35, 35, 35, 35, 35, 35, 35, 36, 36, 36, 36, 36,\n",
       "                    36, 36, 36, 36, 37, 37, 37, 37, 37, 37, 37, 37, 37, 38,\n",
       "                    38, 38, 38, 38, 38, 38, 38, 38, 39, 39, 39, 39, 39, 39,\n",
       "                    39, 39, 39, 40, 40, 40, 40, 40, 40, 40, 40, 40, 41, 41,\n",
       "                    41, 41, 41, 41, 41, 41, 41, 42, 42, 42, 42, 42, 42, 42,\n",
       "                    42, 42, 43, 43, 43, 43, 43, 43, 43, 43, 43],\n",
       "              mask=[False, False, False, False, False, False, False, False,\n",
       "                    False, False, False, False, False, False, False, False,\n",
       "                    False, False, False, False, False, False, False, False,\n",
       "                    False, False, False, False, False, False, False, False,\n",
       "                    False, False, False, False, False, False, False, False,\n",
       "                    False, False, False, False, False, False, False, False,\n",
       "                    False, False, False, False, False, False, False, False,\n",
       "                    False, False, False, False, False, False, False, False,\n",
       "                    False, False, False, False, False, False, False, False,\n",
       "                    False, False, False, False, False, False, False, False,\n",
       "                    False],\n",
       "        fill_value='?',\n",
       "             dtype=object),\n",
       " 'param_min_samples_leaf': masked_array(data=[1, 2, 3, 4, 5, 6, 7, 8, 9, 1, 2, 3, 4, 5, 6, 7, 8, 9,\n",
       "                    1, 2, 3, 4, 5, 6, 7, 8, 9, 1, 2, 3, 4, 5, 6, 7, 8, 9,\n",
       "                    1, 2, 3, 4, 5, 6, 7, 8, 9, 1, 2, 3, 4, 5, 6, 7, 8, 9,\n",
       "                    1, 2, 3, 4, 5, 6, 7, 8, 9, 1, 2, 3, 4, 5, 6, 7, 8, 9,\n",
       "                    1, 2, 3, 4, 5, 6, 7, 8, 9],\n",
       "              mask=[False, False, False, False, False, False, False, False,\n",
       "                    False, False, False, False, False, False, False, False,\n",
       "                    False, False, False, False, False, False, False, False,\n",
       "                    False, False, False, False, False, False, False, False,\n",
       "                    False, False, False, False, False, False, False, False,\n",
       "                    False, False, False, False, False, False, False, False,\n",
       "                    False, False, False, False, False, False, False, False,\n",
       "                    False, False, False, False, False, False, False, False,\n",
       "                    False, False, False, False, False, False, False, False,\n",
       "                    False, False, False, False, False, False, False, False,\n",
       "                    False],\n",
       "        fill_value='?',\n",
       "             dtype=object),\n",
       " 'params': [{'class_weight': 'balanced',\n",
       "   'max_features': 35,\n",
       "   'min_samples_leaf': 1},\n",
       "  {'class_weight': 'balanced', 'max_features': 35, 'min_samples_leaf': 2},\n",
       "  {'class_weight': 'balanced', 'max_features': 35, 'min_samples_leaf': 3},\n",
       "  {'class_weight': 'balanced', 'max_features': 35, 'min_samples_leaf': 4},\n",
       "  {'class_weight': 'balanced', 'max_features': 35, 'min_samples_leaf': 5},\n",
       "  {'class_weight': 'balanced', 'max_features': 35, 'min_samples_leaf': 6},\n",
       "  {'class_weight': 'balanced', 'max_features': 35, 'min_samples_leaf': 7},\n",
       "  {'class_weight': 'balanced', 'max_features': 35, 'min_samples_leaf': 8},\n",
       "  {'class_weight': 'balanced', 'max_features': 35, 'min_samples_leaf': 9},\n",
       "  {'class_weight': 'balanced', 'max_features': 36, 'min_samples_leaf': 1},\n",
       "  {'class_weight': 'balanced', 'max_features': 36, 'min_samples_leaf': 2},\n",
       "  {'class_weight': 'balanced', 'max_features': 36, 'min_samples_leaf': 3},\n",
       "  {'class_weight': 'balanced', 'max_features': 36, 'min_samples_leaf': 4},\n",
       "  {'class_weight': 'balanced', 'max_features': 36, 'min_samples_leaf': 5},\n",
       "  {'class_weight': 'balanced', 'max_features': 36, 'min_samples_leaf': 6},\n",
       "  {'class_weight': 'balanced', 'max_features': 36, 'min_samples_leaf': 7},\n",
       "  {'class_weight': 'balanced', 'max_features': 36, 'min_samples_leaf': 8},\n",
       "  {'class_weight': 'balanced', 'max_features': 36, 'min_samples_leaf': 9},\n",
       "  {'class_weight': 'balanced', 'max_features': 37, 'min_samples_leaf': 1},\n",
       "  {'class_weight': 'balanced', 'max_features': 37, 'min_samples_leaf': 2},\n",
       "  {'class_weight': 'balanced', 'max_features': 37, 'min_samples_leaf': 3},\n",
       "  {'class_weight': 'balanced', 'max_features': 37, 'min_samples_leaf': 4},\n",
       "  {'class_weight': 'balanced', 'max_features': 37, 'min_samples_leaf': 5},\n",
       "  {'class_weight': 'balanced', 'max_features': 37, 'min_samples_leaf': 6},\n",
       "  {'class_weight': 'balanced', 'max_features': 37, 'min_samples_leaf': 7},\n",
       "  {'class_weight': 'balanced', 'max_features': 37, 'min_samples_leaf': 8},\n",
       "  {'class_weight': 'balanced', 'max_features': 37, 'min_samples_leaf': 9},\n",
       "  {'class_weight': 'balanced', 'max_features': 38, 'min_samples_leaf': 1},\n",
       "  {'class_weight': 'balanced', 'max_features': 38, 'min_samples_leaf': 2},\n",
       "  {'class_weight': 'balanced', 'max_features': 38, 'min_samples_leaf': 3},\n",
       "  {'class_weight': 'balanced', 'max_features': 38, 'min_samples_leaf': 4},\n",
       "  {'class_weight': 'balanced', 'max_features': 38, 'min_samples_leaf': 5},\n",
       "  {'class_weight': 'balanced', 'max_features': 38, 'min_samples_leaf': 6},\n",
       "  {'class_weight': 'balanced', 'max_features': 38, 'min_samples_leaf': 7},\n",
       "  {'class_weight': 'balanced', 'max_features': 38, 'min_samples_leaf': 8},\n",
       "  {'class_weight': 'balanced', 'max_features': 38, 'min_samples_leaf': 9},\n",
       "  {'class_weight': 'balanced', 'max_features': 39, 'min_samples_leaf': 1},\n",
       "  {'class_weight': 'balanced', 'max_features': 39, 'min_samples_leaf': 2},\n",
       "  {'class_weight': 'balanced', 'max_features': 39, 'min_samples_leaf': 3},\n",
       "  {'class_weight': 'balanced', 'max_features': 39, 'min_samples_leaf': 4},\n",
       "  {'class_weight': 'balanced', 'max_features': 39, 'min_samples_leaf': 5},\n",
       "  {'class_weight': 'balanced', 'max_features': 39, 'min_samples_leaf': 6},\n",
       "  {'class_weight': 'balanced', 'max_features': 39, 'min_samples_leaf': 7},\n",
       "  {'class_weight': 'balanced', 'max_features': 39, 'min_samples_leaf': 8},\n",
       "  {'class_weight': 'balanced', 'max_features': 39, 'min_samples_leaf': 9},\n",
       "  {'class_weight': 'balanced', 'max_features': 40, 'min_samples_leaf': 1},\n",
       "  {'class_weight': 'balanced', 'max_features': 40, 'min_samples_leaf': 2},\n",
       "  {'class_weight': 'balanced', 'max_features': 40, 'min_samples_leaf': 3},\n",
       "  {'class_weight': 'balanced', 'max_features': 40, 'min_samples_leaf': 4},\n",
       "  {'class_weight': 'balanced', 'max_features': 40, 'min_samples_leaf': 5},\n",
       "  {'class_weight': 'balanced', 'max_features': 40, 'min_samples_leaf': 6},\n",
       "  {'class_weight': 'balanced', 'max_features': 40, 'min_samples_leaf': 7},\n",
       "  {'class_weight': 'balanced', 'max_features': 40, 'min_samples_leaf': 8},\n",
       "  {'class_weight': 'balanced', 'max_features': 40, 'min_samples_leaf': 9},\n",
       "  {'class_weight': 'balanced', 'max_features': 41, 'min_samples_leaf': 1},\n",
       "  {'class_weight': 'balanced', 'max_features': 41, 'min_samples_leaf': 2},\n",
       "  {'class_weight': 'balanced', 'max_features': 41, 'min_samples_leaf': 3},\n",
       "  {'class_weight': 'balanced', 'max_features': 41, 'min_samples_leaf': 4},\n",
       "  {'class_weight': 'balanced', 'max_features': 41, 'min_samples_leaf': 5},\n",
       "  {'class_weight': 'balanced', 'max_features': 41, 'min_samples_leaf': 6},\n",
       "  {'class_weight': 'balanced', 'max_features': 41, 'min_samples_leaf': 7},\n",
       "  {'class_weight': 'balanced', 'max_features': 41, 'min_samples_leaf': 8},\n",
       "  {'class_weight': 'balanced', 'max_features': 41, 'min_samples_leaf': 9},\n",
       "  {'class_weight': 'balanced', 'max_features': 42, 'min_samples_leaf': 1},\n",
       "  {'class_weight': 'balanced', 'max_features': 42, 'min_samples_leaf': 2},\n",
       "  {'class_weight': 'balanced', 'max_features': 42, 'min_samples_leaf': 3},\n",
       "  {'class_weight': 'balanced', 'max_features': 42, 'min_samples_leaf': 4},\n",
       "  {'class_weight': 'balanced', 'max_features': 42, 'min_samples_leaf': 5},\n",
       "  {'class_weight': 'balanced', 'max_features': 42, 'min_samples_leaf': 6},\n",
       "  {'class_weight': 'balanced', 'max_features': 42, 'min_samples_leaf': 7},\n",
       "  {'class_weight': 'balanced', 'max_features': 42, 'min_samples_leaf': 8},\n",
       "  {'class_weight': 'balanced', 'max_features': 42, 'min_samples_leaf': 9},\n",
       "  {'class_weight': 'balanced', 'max_features': 43, 'min_samples_leaf': 1},\n",
       "  {'class_weight': 'balanced', 'max_features': 43, 'min_samples_leaf': 2},\n",
       "  {'class_weight': 'balanced', 'max_features': 43, 'min_samples_leaf': 3},\n",
       "  {'class_weight': 'balanced', 'max_features': 43, 'min_samples_leaf': 4},\n",
       "  {'class_weight': 'balanced', 'max_features': 43, 'min_samples_leaf': 5},\n",
       "  {'class_weight': 'balanced', 'max_features': 43, 'min_samples_leaf': 6},\n",
       "  {'class_weight': 'balanced', 'max_features': 43, 'min_samples_leaf': 7},\n",
       "  {'class_weight': 'balanced', 'max_features': 43, 'min_samples_leaf': 8},\n",
       "  {'class_weight': 'balanced', 'max_features': 43, 'min_samples_leaf': 9}],\n",
       " 'split0_test_score': array([0.77104377, 0.8013468 , 0.79461279, 0.7979798 , 0.8013468 ,\n",
       "        0.79124579, 0.79461279, 0.8013468 , 0.79461279, 0.78114478,\n",
       "        0.78787879, 0.81144781, 0.8047138 , 0.7979798 , 0.8013468 ,\n",
       "        0.79461279, 0.8047138 , 0.7979798 , 0.77104377, 0.79124579,\n",
       "        0.78787879, 0.8013468 , 0.79461279, 0.79461279, 0.8047138 ,\n",
       "        0.8013468 , 0.79461279, 0.77441077, 0.7979798 , 0.8013468 ,\n",
       "        0.8013468 , 0.79124579, 0.79124579, 0.7979798 , 0.7979798 ,\n",
       "        0.8047138 , 0.76767677, 0.79124579, 0.78787879, 0.79461279,\n",
       "        0.7979798 , 0.78114478, 0.8013468 , 0.8013468 , 0.7979798 ,\n",
       "        0.77777778, 0.79124579, 0.79461279, 0.7979798 , 0.80808081,\n",
       "        0.79124579, 0.8047138 , 0.8013468 , 0.8013468 , 0.78114478,\n",
       "        0.79124579, 0.78787879, 0.79124579, 0.8013468 , 0.8013468 ,\n",
       "        0.78787879, 0.8013468 , 0.7979798 , 0.77441077, 0.7979798 ,\n",
       "        0.79124579, 0.79461279, 0.8013468 , 0.79461279, 0.7979798 ,\n",
       "        0.8047138 , 0.77441077, 0.77104377, 0.78787879, 0.78787879,\n",
       "        0.80808081, 0.8047138 , 0.81481481, 0.8013468 , 0.78787879,\n",
       "        0.7979798 ]),\n",
       " 'split1_test_score': array([0.83501684, 0.82828283, 0.83501684, 0.84175084, 0.83164983,\n",
       "        0.83164983, 0.83164983, 0.82491582, 0.82828283, 0.82154882,\n",
       "        0.83501684, 0.81818182, 0.82491582, 0.83164983, 0.83838384,\n",
       "        0.83501684, 0.82154882, 0.83501684, 0.83501684, 0.84175084,\n",
       "        0.83838384, 0.82828283, 0.84175084, 0.83164983, 0.83164983,\n",
       "        0.81818182, 0.81818182, 0.82491582, 0.83838384, 0.83838384,\n",
       "        0.83838384, 0.84511785, 0.83501684, 0.82154882, 0.82491582,\n",
       "        0.82491582, 0.81818182, 0.83164983, 0.84175084, 0.84175084,\n",
       "        0.83838384, 0.82828283, 0.82491582, 0.82154882, 0.82828283,\n",
       "        0.82828283, 0.83164983, 0.84848485, 0.83501684, 0.83164983,\n",
       "        0.83164983, 0.82491582, 0.81818182, 0.81481481, 0.82828283,\n",
       "        0.84175084, 0.84848485, 0.83501684, 0.84175084, 0.83838384,\n",
       "        0.83501684, 0.82154882, 0.82154882, 0.83164983, 0.82828283,\n",
       "        0.83838384, 0.85185185, 0.83164983, 0.83501684, 0.83501684,\n",
       "        0.83501684, 0.82828283, 0.82491582, 0.83838384, 0.82828283,\n",
       "        0.84175084, 0.84175084, 0.83501684, 0.83164983, 0.82828283,\n",
       "        0.83501684]),\n",
       " 'split2_test_score': array([0.82828283, 0.83501684, 0.84175084, 0.82828283, 0.84175084,\n",
       "        0.84175084, 0.82828283, 0.83164983, 0.82154882, 0.82491582,\n",
       "        0.82491582, 0.84511785, 0.84175084, 0.84175084, 0.84175084,\n",
       "        0.83501684, 0.82828283, 0.81818182, 0.83164983, 0.82491582,\n",
       "        0.84175084, 0.84175084, 0.84175084, 0.84175084, 0.84175084,\n",
       "        0.82491582, 0.82828283, 0.82491582, 0.83164983, 0.84511785,\n",
       "        0.84175084, 0.83501684, 0.83164983, 0.83164983, 0.83164983,\n",
       "        0.83164983, 0.82491582, 0.83164983, 0.83838384, 0.83501684,\n",
       "        0.84175084, 0.83838384, 0.84511785, 0.83501684, 0.81818182,\n",
       "        0.82154882, 0.82828283, 0.84175084, 0.83501684, 0.83838384,\n",
       "        0.84175084, 0.84175084, 0.82828283, 0.82828283, 0.82154882,\n",
       "        0.83164983, 0.83501684, 0.83838384, 0.83164983, 0.84175084,\n",
       "        0.83501684, 0.83164983, 0.83501684, 0.82491582, 0.82828283,\n",
       "        0.83838384, 0.84175084, 0.84511785, 0.83501684, 0.83838384,\n",
       "        0.83838384, 0.82828283, 0.84175084, 0.84511785, 0.82828283,\n",
       "        0.84175084, 0.84175084, 0.83838384, 0.83501684, 0.83838384,\n",
       "        0.83501684]),\n",
       " 'mean_test_score': array([0.81144781, 0.82154882, 0.82379349, 0.82267116, 0.82491582,\n",
       "        0.82154882, 0.81818182, 0.81930415, 0.81481481, 0.80920314,\n",
       "        0.81593715, 0.82491582, 0.82379349, 0.82379349, 0.82716049,\n",
       "        0.82154882, 0.81818182, 0.81705948, 0.81257015, 0.81930415,\n",
       "        0.82267116, 0.82379349, 0.82603816, 0.82267116, 0.82603816,\n",
       "        0.81481481, 0.81369248, 0.80808081, 0.82267116, 0.82828283,\n",
       "        0.82716049, 0.82379349, 0.81930415, 0.81705948, 0.81818182,\n",
       "        0.82042649, 0.80359147, 0.81818182, 0.82267116, 0.82379349,\n",
       "        0.82603816, 0.81593715, 0.82379349, 0.81930415, 0.81481481,\n",
       "        0.80920314, 0.81705948, 0.82828283, 0.82267116, 0.82603816,\n",
       "        0.82154882, 0.82379349, 0.81593715, 0.81481481, 0.81032548,\n",
       "        0.82154882, 0.82379349, 0.82154882, 0.82491582, 0.82716049,\n",
       "        0.81930415, 0.81818182, 0.81818182, 0.81032548, 0.81818182,\n",
       "        0.82267116, 0.82940516, 0.82603816, 0.82154882, 0.82379349,\n",
       "        0.82603816, 0.81032548, 0.81257015, 0.82379349, 0.81481481,\n",
       "        0.8305275 , 0.82940516, 0.82940516, 0.82267116, 0.81818182,\n",
       "        0.82267116]),\n",
       " 'std_test_score': array([0.02870193, 0.01454712, 0.0208162 , 0.01830472, 0.01716842,\n",
       "        0.02182068, 0.01672241, 0.01299196, 0.01454712, 0.01988782,\n",
       "        0.02026428, 0.01454712, 0.01514112, 0.01871305, 0.01830472,\n",
       "        0.01904665, 0.00991219, 0.01514112, 0.02939574, 0.02099696,\n",
       "        0.02464029, 0.01679756, 0.02222109, 0.02026428, 0.01563231,\n",
       "        0.00991219, 0.01410753, 0.02380831, 0.01767454, 0.01924403,\n",
       "        0.01830472, 0.02338122, 0.01988782, 0.01410753, 0.01454712,\n",
       "        0.01144561, 0.0255439 , 0.01904665, 0.02464029, 0.0208162 ,\n",
       "        0.01988782, 0.02494513, 0.01788707, 0.01383707, 0.01259817,\n",
       "        0.0223905 , 0.01830472, 0.02396651, 0.01745943, 0.01299196,\n",
       "        0.02182068, 0.01514112, 0.01111054, 0.01099659, 0.0208162 ,\n",
       "        0.02182068, 0.02598392, 0.02147152, 0.01716842, 0.01830472,\n",
       "        0.02222109, 0.01259817, 0.0153066 , 0.0255439 , 0.01428499,\n",
       "        0.02222109, 0.02494513, 0.01830472, 0.01904665, 0.01830472,\n",
       "        0.01514112, 0.02539553, 0.03015719, 0.0255439 , 0.01904665,\n",
       "        0.01587221, 0.01745943, 0.0104081 , 0.01514112, 0.02182068,\n",
       "        0.01745943]),\n",
       " 'rank_test_score': array([74, 39, 19, 30, 16, 39, 52, 47, 66, 78, 63, 16, 19, 19,  7, 39, 52,\n",
       "        60, 72, 47, 30, 19, 10, 30, 10, 66, 71, 80, 30,  5,  7, 19, 47, 60,\n",
       "        52, 46, 81, 52, 30, 19, 10, 63, 19, 47, 66, 78, 60,  5, 30, 10, 39,\n",
       "        19, 63, 66, 75, 39, 19, 39, 16,  7, 47, 52, 52, 75, 52, 30,  2, 10,\n",
       "        39, 19, 10, 75, 72, 19, 66,  1,  2,  2, 30, 52, 30])}"
      ]
     },
     "execution_count": 22,
     "metadata": {},
     "output_type": "execute_result"
    }
   ],
   "source": [
    "grid_s.cv_results_"
   ]
  },
  {
   "cell_type": "code",
   "execution_count": 23,
   "metadata": {},
   "outputs": [],
   "source": [
    "df_pred =grid_s.predict(X)"
   ]
  },
  {
   "cell_type": "code",
   "execution_count": 24,
   "metadata": {},
   "outputs": [],
   "source": [
    "df_train['Predicted'] = df_pred"
   ]
  },
  {
   "cell_type": "code",
   "execution_count": 25,
   "metadata": {},
   "outputs": [],
   "source": [
    "df_train['Error'] =df_train['Predicted'] != df_train['Survived']"
   ]
  },
  {
   "cell_type": "code",
   "execution_count": 26,
   "metadata": {},
   "outputs": [
    {
     "data": {
      "text/plain": [
       "Error\n",
       "False    AxesSubplot(0.125,0.125;0.775x0.755)\n",
       "True     AxesSubplot(0.125,0.125;0.775x0.755)\n",
       "Name: Pclass, dtype: object"
      ]
     },
     "execution_count": 26,
     "metadata": {},
     "output_type": "execute_result"
    },
    {
     "data": {
      "image/png": "[encoded data removed]",
      "text/plain": [
       "<Figure size 432x432 with 1 Axes>"
      ]
     },
     "metadata": {
      "needs_background": "light"
     },
     "output_type": "display_data"
    }
   ],
   "source": [
    "df_train.groupby(['Error'])['Pclass'].hist(figsize=(6,6), alpha=0.5, density=True)"
   ]
  },
  {
   "cell_type": "code",
   "execution_count": 28,
   "metadata": {},
   "outputs": [],
   "source": [
    "from ipywidgets import interact"
   ]
  },
  {
   "cell_type": "code",
   "execution_count": 29,
   "metadata": {},
   "outputs": [
    {
     "data": {
      "application/vnd.jupyter.widget-view+json": {
       "model_id": "77ddfec0cbb1489d91e3c28c333d7c3d",
       "version_major": 2,
       "version_minor": 0
      },
      "text/plain": [
       "interactive(children=(Dropdown(description='group1', options=('PassengerId', 'Survived', 'Pclass', 'Name', 'Se…"
      ]
     },
     "metadata": {},
     "output_type": "display_data"
    }
   ],
   "source": [
    "@interact\n",
    "def ortalama(group1 = df_train.columns.to_list()):\n",
    "    display(df_train.groupby(['Error'])[group1].hist(figsize=(6,6), alpha=0.5, density=True))"
   ]
  },
  {
   "cell_type": "code",
   "execution_count": 30,
   "metadata": {},
   "outputs": [
    {
     "data": {
      "text/plain": [
       "0.804827772103053"
      ]
     },
     "execution_count": 30,
     "metadata": {},
     "output_type": "execute_result"
    }
   ],
   "source": [
    "test_sc['test_score'].mean()"
   ]
  },
  {
   "cell_type": "code",
   "execution_count": 31,
   "metadata": {},
   "outputs": [
    {
     "data": {
      "text/plain": [
       "0.8595838289097445"
      ]
     },
     "execution_count": 31,
     "metadata": {},
     "output_type": "execute_result"
    }
   ],
   "source": [
    "test_sc['train_score'].mean()"
   ]
  },
  {
   "cell_type": "code",
   "execution_count": 32,
   "metadata": {},
   "outputs": [
    {
     "data": {
      "text/plain": [
       "RandomForestClassifier(bootstrap=True, class_weight='balanced',\n",
       "                       criterion='entropy', max_depth=None, max_features='auto',\n",
       "                       max_leaf_nodes=None, min_impurity_decrease=0.0,\n",
       "                       min_impurity_split=None, min_samples_leaf=5,\n",
       "                       min_samples_split=2, min_weight_fraction_leaf=0.0,\n",
       "                       n_estimators=100, n_jobs=None, oob_score=False,\n",
       "                       random_state=None, verbose=0, warm_start=False)"
      ]
     },
     "execution_count": 32,
     "metadata": {},
     "output_type": "execute_result"
    }
   ],
   "source": [
    "clf.fit(X,y)"
   ]
  },
  {
   "cell_type": "code",
   "execution_count": 33,
   "metadata": {},
   "outputs": [
    {
     "name": "stderr",
     "output_type": "stream",
     "text": [
      "C:\\Users\\AA\\AppData\\Local\\Continuum\\anaconda3\\lib\\site-packages\\sklearn\\model_selection\\_split.py:1978: FutureWarning: The default value of cv will change from 3 to 5 in version 0.22. Specify it explicitly to silence this warning.\n",
      "  warnings.warn(CV_WARNING, FutureWarning)\n"
     ]
    },
    {
     "data": {
      "text/plain": [
       "GridSearchCV(cv='warn', error_score='raise-deprecating',\n",
       "             estimator=RandomForestClassifier(bootstrap=True,\n",
       "                                              class_weight='balanced',\n",
       "                                              criterion='entropy',\n",
       "                                              max_depth=None,\n",
       "                                              max_features='auto',\n",
       "                                              max_leaf_nodes=None,\n",
       "                                              min_impurity_decrease=0.0,\n",
       "                                              min_impurity_split=None,\n",
       "                                              min_samples_leaf=5,\n",
       "                                              min_samples_split=2,\n",
       "                                              min_weight_fraction_leaf=0.0,\n",
       "                                              n_estimators=100, n_jobs=None,\n",
       "                                              oob_score=False,\n",
       "                                              random_state=None, verbose=0,\n",
       "                                              warm_start=False),\n",
       "             iid='warn', n_jobs=None,\n",
       "             param_grid={'class_weight': ['balanced'],\n",
       "                         'max_features': range(35, 44),\n",
       "                         'min_samples_leaf': range(1, 10)},\n",
       "             pre_dispatch='2*n_jobs', refit=True, return_train_score=False,\n",
       "             scoring=None, verbose=0)"
      ]
     },
     "execution_count": 33,
     "metadata": {},
     "output_type": "execute_result"
    }
   ],
   "source": [
    "grid_s.fit(X,y)"
   ]
  },
  {
   "cell_type": "code",
   "execution_count": 34,
   "metadata": {},
   "outputs": [
    {
     "data": {
      "text/plain": [
       "0.8574635241301908"
      ]
     },
     "execution_count": 34,
     "metadata": {},
     "output_type": "execute_result"
    }
   ],
   "source": [
    "clf.score(X,y)"
   ]
  },
  {
   "cell_type": "code",
   "execution_count": 35,
   "metadata": {},
   "outputs": [],
   "source": [
    "df_test=pd.read_csv('test.csv')"
   ]
  },
  {
   "cell_type": "code",
   "execution_count": 36,
   "metadata": {},
   "outputs": [
    {
     "name": "stderr",
     "output_type": "stream",
     "text": [
      "C:\\Users\\AA\\AppData\\Local\\Continuum\\anaconda3\\lib\\site-packages\\ipykernel_launcher.py:6: SettingWithCopyWarning: \n",
      "A value is trying to be set on a copy of a slice from a DataFrame.\n",
      "Try using .loc[row_indexer,col_indexer] = value instead\n",
      "\n",
      "See the caveats in the documentation: http://pandas.pydata.org/pandas-docs/stable/user_guide/indexing.html#returning-a-view-versus-a-copy\n",
      "  \n"
     ]
    }
   ],
   "source": [
    "predict = grid_s.predict(process(df_test))"
   ]
  },
  {
   "cell_type": "code",
   "execution_count": 37,
   "metadata": {},
   "outputs": [
    {
     "name": "stderr",
     "output_type": "stream",
     "text": [
      "C:\\Users\\AA\\AppData\\Local\\Continuum\\anaconda3\\lib\\site-packages\\ipykernel_launcher.py:6: SettingWithCopyWarning: \n",
      "A value is trying to be set on a copy of a slice from a DataFrame.\n",
      "Try using .loc[row_indexer,col_indexer] = value instead\n",
      "\n",
      "See the caveats in the documentation: http://pandas.pydata.org/pandas-docs/stable/user_guide/indexing.html#returning-a-view-versus-a-copy\n",
      "  \n"
     ]
    }
   ],
   "source": [
    "predict = grid_s.predict(process(df_test))"
   ]
  },
  {
   "cell_type": "code",
   "execution_count": 38,
   "metadata": {},
   "outputs": [],
   "source": [
    "df_test['Survived'] = predict"
   ]
  },
  {
   "cell_type": "code",
   "execution_count": 39,
   "metadata": {},
   "outputs": [],
   "source": [
    "df_test[['PassengerId','Survived']].to_csv('dosya', index=False)"
   ]
  },
  {
   "cell_type": "markdown",
   "metadata": {},
   "source": [
    "# Clustering"
   ]
  },
  {
   "cell_type": "code",
   "execution_count": 40,
   "metadata": {},
   "outputs": [],
   "source": [
    "df_train = pd.read_csv('train.csv')\n",
    "df_train['Age'] = df_train['Age'].fillna(df_train['Age'].mean())\n",
    "df_train['Embarked'] = df_train['Embarked'].fillna(df_train['Embarked'].mode()[0])"
   ]
  },
  {
   "cell_type": "code",
   "execution_count": 41,
   "metadata": {},
   "outputs": [],
   "source": [
    "from sklearn.compose import ColumnTransformer\n",
    "from sklearn.preprocessing import MinMaxScaler, OneHotEncoder"
   ]
  },
  {
   "cell_type": "code",
   "execution_count": 42,
   "metadata": {},
   "outputs": [],
   "source": [
    "col = ColumnTransformer([\n",
    "    ('encode', OneHotEncoder(sparse=False), ['Pclass','Sex','SibSp','Parch','Embarked']),\n",
    "    ('scale', MinMaxScaler(), ['Age','Fare'])\n",
    "])"
   ]
  },
  {
   "cell_type": "code",
   "execution_count": 43,
   "metadata": {},
   "outputs": [],
   "source": [
    "X = col.fit_transform(df_train)"
   ]
  },
  {
   "cell_type": "code",
   "execution_count": 44,
   "metadata": {},
   "outputs": [],
   "source": [
    "from sklearn.cluster import KMeans"
   ]
  },
  {
   "cell_type": "code",
   "execution_count": 45,
   "metadata": {},
   "outputs": [
    {
     "data": {
      "text/plain": [
       "KMeans(algorithm='auto', copy_x=True, init='k-means++', max_iter=300,\n",
       "       n_clusters=8, n_init=10, n_jobs=None, precompute_distances='auto',\n",
       "       random_state=None, tol=0.0001, verbose=0)"
      ]
     },
     "execution_count": 45,
     "metadata": {},
     "output_type": "execute_result"
    }
   ],
   "source": [
    "kmeans = KMeans()\n",
    "kmeans.fit(X)"
   ]
  },
  {
   "cell_type": "code",
   "execution_count": 46,
   "metadata": {},
   "outputs": [],
   "source": [
    "cluster = kmeans.predict(X)"
   ]
  },
  {
   "cell_type": "code",
   "execution_count": 47,
   "metadata": {},
   "outputs": [],
   "source": [
    "import seaborn as sns"
   ]
  },
  {
   "cell_type": "code",
   "execution_count": 48,
   "metadata": {},
   "outputs": [],
   "source": [
    "from sklearn.decomposition import PCA"
   ]
  },
  {
   "cell_type": "code",
   "execution_count": 49,
   "metadata": {},
   "outputs": [],
   "source": [
    "pca = PCA(n_components=2)\n",
    "\n",
    "X_pca = pca.fit_transform(X)"
   ]
  },
  {
   "cell_type": "code",
   "execution_count": 50,
   "metadata": {},
   "outputs": [
    {
     "data": {
      "text/plain": [
       "<matplotlib.axes._subplots.AxesSubplot at 0x1ba3f844448>"
      ]
     },
     "execution_count": 50,
     "metadata": {},
     "output_type": "execute_result"
    },
    {
     "data": {
      "image/png": "[encoded data removed]",
      "text/plain": [
       "<Figure size 432x288 with 1 Axes>"
      ]
     },
     "metadata": {
      "needs_background": "light"
     },
     "output_type": "display_data"
    }
   ],
   "source": [
    "sns.scatterplot(x=X_pca[:,0], y=X_pca[:,1], hue=df_train['Survived'])"
   ]
  },
  {
   "cell_type": "code",
   "execution_count": 51,
   "metadata": {},
   "outputs": [
    {
     "data": {
      "text/plain": [
       "<matplotlib.axes._subplots.AxesSubplot at 0x1ba3e6d15c8>"
      ]
     },
     "execution_count": 51,
     "metadata": {},
     "output_type": "execute_result"
    },
    {
     "data": {
      "image/png": "[encoded data removed]",
      "text/plain": [
       "<Figure size 432x288 with 1 Axes>"
      ]
     },
     "metadata": {
      "needs_background": "light"
     },
     "output_type": "display_data"
    }
   ],
   "source": [
    "sns.scatterplot(x=X_pca[:,0], y=X_pca[:,1], hue=cluster, cmap = 'jet')"
   ]
  },
  {
   "cell_type": "code",
   "execution_count": 52,
   "metadata": {},
   "outputs": [
    {
     "data": {
      "text/plain": [
       "<matplotlib.collections.PathCollection at 0x1ba40950388>"
      ]
     },
     "execution_count": 52,
     "metadata": {},
     "output_type": "execute_result"
    },
    {
     "data": {
      "image/png": "[encoded data removed]",
      "text/plain": [
       "<Figure size 432x288 with 1 Axes>"
      ]
     },
     "metadata": {
      "needs_background": "light"
     },
     "output_type": "display_data"
    }
   ],
   "source": [
    "plt.scatter(x=X_pca[:,0], y=X_pca[:,1], c=cluster, cmap = 'jet')"
   ]
  },
  {
   "cell_type": "code",
   "execution_count": 53,
   "metadata": {},
   "outputs": [
    {
     "data": {
      "application/vnd.jupyter.widget-view+json": {
       "model_id": "f2b65e82be7e48a48eade35ed42c4d60",
       "version_major": 2,
       "version_minor": 0
      },
      "text/plain": [
       "interactive(children=(IntSlider(value=5, description='k', max=9, min=2), Output()), _dom_classes=('widget-inte…"
      ]
     },
     "metadata": {},
     "output_type": "display_data"
    }
   ],
   "source": [
    "@interact\n",
    "def clustering (k=(2,9,1)):\n",
    "    kmeans = KMeans(n_clusters=k)\n",
    "    kmeans.fit(X)\n",
    "    cluster = kmeans.predict(X)\n",
    "    pca = PCA(n_components=2)\n",
    "    X_pca = pca.fit_transform(X)\n",
    "    plt.figure(figsize=(12,8))\n",
    "    plt.scatter(x=X_pca[df_train['Survived']==0,0], y=X_pca[df_train['Survived']==0,1], c=cluster[df_train['Survived']==0],\n",
    "                marker='*', cmap = 'jet')\n",
    "    plt.scatter(x=X_pca[df_train['Survived']==1,0], y=X_pca[df_train['Survived']==1,1], c=cluster[df_train['Survived']==1], cmap = 'jet')"
   ]
  },
  {
   "cell_type": "code",
   "execution_count": 54,
   "metadata": {},
   "outputs": [
    {
     "data": {
      "application/vnd.jupyter.widget-view+json": {
       "model_id": "ca5e99980b964dd296c4a9d5a59c5ae0",
       "version_major": 2,
       "version_minor": 0
      },
      "text/plain": [
       "interactive(children=(Dropdown(description='group1', options=('PassengerId', 'Survived', 'Pclass', 'Name', 'Se…"
      ]
     },
     "metadata": {},
     "output_type": "display_data"
    }
   ],
   "source": [
    "@interact\n",
    "def ortalama(group1 = df_train.columns.to_list(), category = df_train.columns.to_list()):\n",
    "    display(df_train.groupby([group1,category])['Survived'].value_counts())"
   ]
  },
  {
   "cell_type": "code",
   "execution_count": 55,
   "metadata": {},
   "outputs": [
    {
     "data": {
      "text/html": [
       "<div>\n",
       "<style scoped>\n",
       "    .dataframe tbody tr th:only-of-type {\n",
       "        vertical-align: middle;\n",
       "    }\n",
       "\n",
       "    .dataframe tbody tr th {\n",
       "        vertical-align: top;\n",
       "    }\n",
       "\n",
       "    .dataframe thead th {\n",
       "        text-align: right;\n",
       "    }\n",
       "</style>\n",
       "<table border=\"1\" class=\"dataframe\">\n",
       "  <thead>\n",
       "    <tr style=\"text-align: right;\">\n",
       "      <th></th>\n",
       "      <th>PassengerId</th>\n",
       "      <th>Survived</th>\n",
       "      <th>Pclass</th>\n",
       "      <th>Name</th>\n",
       "      <th>Sex</th>\n",
       "      <th>Age</th>\n",
       "      <th>SibSp</th>\n",
       "      <th>Parch</th>\n",
       "      <th>Ticket</th>\n",
       "      <th>Fare</th>\n",
       "      <th>Cabin</th>\n",
       "      <th>Embarked</th>\n",
       "    </tr>\n",
       "  </thead>\n",
       "  <tbody>\n",
       "    <tr>\n",
       "      <td>0</td>\n",
       "      <td>1</td>\n",
       "      <td>0</td>\n",
       "      <td>3</td>\n",
       "      <td>Braund, Mr. Owen Harris</td>\n",
       "      <td>male</td>\n",
       "      <td>22.0</td>\n",
       "      <td>1</td>\n",
       "      <td>0</td>\n",
       "      <td>A/5 21171</td>\n",
       "      <td>7.2500</td>\n",
       "      <td>NaN</td>\n",
       "      <td>S</td>\n",
       "    </tr>\n",
       "    <tr>\n",
       "      <td>1</td>\n",
       "      <td>2</td>\n",
       "      <td>1</td>\n",
       "      <td>1</td>\n",
       "      <td>Cumings, Mrs. John Bradley (Florence Briggs Th...</td>\n",
       "      <td>female</td>\n",
       "      <td>38.0</td>\n",
       "      <td>1</td>\n",
       "      <td>0</td>\n",
       "      <td>PC 17599</td>\n",
       "      <td>71.2833</td>\n",
       "      <td>C85</td>\n",
       "      <td>C</td>\n",
       "    </tr>\n",
       "    <tr>\n",
       "      <td>2</td>\n",
       "      <td>3</td>\n",
       "      <td>1</td>\n",
       "      <td>3</td>\n",
       "      <td>Heikkinen, Miss. Laina</td>\n",
       "      <td>female</td>\n",
       "      <td>26.0</td>\n",
       "      <td>0</td>\n",
       "      <td>0</td>\n",
       "      <td>STON/O2. 3101282</td>\n",
       "      <td>7.9250</td>\n",
       "      <td>NaN</td>\n",
       "      <td>S</td>\n",
       "    </tr>\n",
       "    <tr>\n",
       "      <td>3</td>\n",
       "      <td>4</td>\n",
       "      <td>1</td>\n",
       "      <td>1</td>\n",
       "      <td>Futrelle, Mrs. Jacques Heath (Lily May Peel)</td>\n",
       "      <td>female</td>\n",
       "      <td>35.0</td>\n",
       "      <td>1</td>\n",
       "      <td>0</td>\n",
       "      <td>113803</td>\n",
       "      <td>53.1000</td>\n",
       "      <td>C123</td>\n",
       "      <td>S</td>\n",
       "    </tr>\n",
       "    <tr>\n",
       "      <td>4</td>\n",
       "      <td>5</td>\n",
       "      <td>0</td>\n",
       "      <td>3</td>\n",
       "      <td>Allen, Mr. William Henry</td>\n",
       "      <td>male</td>\n",
       "      <td>35.0</td>\n",
       "      <td>0</td>\n",
       "      <td>0</td>\n",
       "      <td>373450</td>\n",
       "      <td>8.0500</td>\n",
       "      <td>NaN</td>\n",
       "      <td>S</td>\n",
       "    </tr>\n",
       "  </tbody>\n",
       "</table>\n",
       "</div>"
      ],
      "text/plain": [
       "   PassengerId  Survived  Pclass  \\\n",
       "0            1         0       3   \n",
       "1            2         1       1   \n",
       "2            3         1       3   \n",
       "3            4         1       1   \n",
       "4            5         0       3   \n",
       "\n",
       "                                                Name     Sex   Age  SibSp  \\\n",
       "0                            Braund, Mr. Owen Harris    male  22.0      1   \n",
       "1  Cumings, Mrs. John Bradley (Florence Briggs Th...  female  38.0      1   \n",
       "2                             Heikkinen, Miss. Laina  female  26.0      0   \n",
       "3       Futrelle, Mrs. Jacques Heath (Lily May Peel)  female  35.0      1   \n",
       "4                           Allen, Mr. William Henry    male  35.0      0   \n",
       "\n",
       "   Parch            Ticket     Fare Cabin Embarked  \n",
       "0      0         A/5 21171   7.2500   NaN        S  \n",
       "1      0          PC 17599  71.2833   C85        C  \n",
       "2      0  STON/O2. 3101282   7.9250   NaN        S  \n",
       "3      0            113803  53.1000  C123        S  \n",
       "4      0            373450   8.0500   NaN        S  "
      ]
     },
     "execution_count": 55,
     "metadata": {},
     "output_type": "execute_result"
    }
   ],
   "source": [
    "df_train.head(5)"
   ]
  },
  {
   "cell_type": "code",
   "execution_count": null,
   "metadata": {},
   "outputs": [],
   "source": []
  }
 ],
 "metadata": {
  "kernelspec": {
   "display_name": "Python 3",
   "language": "python",
   "name": "python3"
  },
  "language_info": {
   "codemirror_mode": {
    "name": "ipython",
    "version": 3
   },
   "file_extension": ".py",
   "mimetype": "text/x-python",
   "name": "python",
   "nbconvert_exporter": "python",
   "pygments_lexer": "ipython3",
   "version": "3.7.4"
  }
 },
 "nbformat": 4,
 "nbformat_minor": 2
}
